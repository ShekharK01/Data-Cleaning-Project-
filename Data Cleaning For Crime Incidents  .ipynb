{
 "cells": [
  {
   "cell_type": "markdown",
   "metadata": {},
   "source": [
    "# DATA CLEANING BATON ROUGE CRIME INCIDENTS "
   ]
  },
  {
   "cell_type": "code",
   "execution_count": 1,
   "metadata": {},
   "outputs": [],
   "source": [
    "import pandas as pd"
   ]
  },
  {
   "cell_type": "code",
   "execution_count": 2,
   "metadata": {},
   "outputs": [
    {
     "name": "stderr",
     "output_type": "stream",
     "text": [
      "C:\\Anaconda\\lib\\site-packages\\IPython\\core\\interactiveshell.py:3057: DtypeWarning: Columns (2) have mixed types.Specify dtype option on import or set low_memory=False.\n",
      "  interactivity=interactivity, compiler=compiler, result=result)\n"
     ]
    }
   ],
   "source": [
    "df = pd.read_csv(\"Legacy_Baton_Rouge_Crime_Incidents.csv\")"
   ]
  },
  {
   "cell_type": "markdown",
   "metadata": {},
   "source": [
    "## 1. FIRST UNDERSTANDING THE DATA "
   ]
  },
  {
   "cell_type": "code",
   "execution_count": 3,
   "metadata": {},
   "outputs": [
    {
     "name": "stdout",
     "output_type": "stream",
     "text": [
      "TOTAL NUMBER OF COLUMNS ARE 22\n",
      "NAME OF COLUMNS ARE AS FOLLOWS Index(['FILE NUMBER', 'OFFENSE DATE', 'OFFENSE TIME', 'CRIME', 'COMMITTED',\n",
      "       'OFFENSE', 'OFFENSE DESCRIPTION', 'FULL ADDRESS', 'ADDRESS NUMBER',\n",
      "       'STREET DIRECTION', 'STREET NAME', 'STREET TYPE', 'CITY', 'STATE',\n",
      "       'ZIP CODE', 'DISTRICT', 'ZONE', 'SUBZONE', 'COMPLETE DISTRICT',\n",
      "       'COUNCIL DISTRICT', 'CRIME PREVENTION DISTRICT', 'GEOLOCATION'],\n",
      "      dtype='object')\n"
     ]
    }
   ],
   "source": [
    "print(\"TOTAL NUMBER OF COLUMNS ARE\", len(df.columns))\n",
    "print(\"NAME OF COLUMNS ARE AS FOLLOWS\",  df.columns)"
   ]
  },
  {
   "cell_type": "code",
   "execution_count": 4,
   "metadata": {},
   "outputs": [
    {
     "name": "stdout",
     "output_type": "stream",
     "text": [
      "NUMBER OF ROWS AND COLUMNS ARE (490578, 22)\n"
     ]
    }
   ],
   "source": [
    "print(\"NUMBER OF ROWS AND COLUMNS ARE\", df.shape)"
   ]
  },
  {
   "cell_type": "code",
   "execution_count": 5,
   "metadata": {},
   "outputs": [
    {
     "name": "stdout",
     "output_type": "stream",
     "text": [
      "<class 'pandas.core.frame.DataFrame'>\n",
      "RangeIndex: 490578 entries, 0 to 490577\n",
      "Data columns (total 22 columns):\n",
      " #   Column                     Non-Null Count   Dtype  \n",
      "---  ------                     --------------   -----  \n",
      " 0   FILE NUMBER                483265 non-null  float64\n",
      " 1   OFFENSE DATE               490578 non-null  object \n",
      " 2   OFFENSE TIME               490578 non-null  object \n",
      " 3   CRIME                      490578 non-null  object \n",
      " 4   COMMITTED                  490578 non-null  object \n",
      " 5   OFFENSE                    490578 non-null  object \n",
      " 6   OFFENSE DESCRIPTION        490578 non-null  object \n",
      " 7   FULL ADDRESS               483265 non-null  object \n",
      " 8   ADDRESS NUMBER             482448 non-null  float64\n",
      " 9   STREET DIRECTION           80244 non-null   object \n",
      " 10  STREET NAME                483265 non-null  object \n",
      " 11  STREET TYPE                466665 non-null  object \n",
      " 12  CITY                       483265 non-null  object \n",
      " 13  STATE                      483265 non-null  object \n",
      " 14  ZIP CODE                   487531 non-null  float64\n",
      " 15  DISTRICT                   467456 non-null  object \n",
      " 16  ZONE                       467456 non-null  object \n",
      " 17  SUBZONE                    467456 non-null  object \n",
      " 18  COMPLETE DISTRICT          467456 non-null  object \n",
      " 19  COUNCIL DISTRICT           487263 non-null  float64\n",
      " 20  CRIME PREVENTION DISTRICT  487273 non-null  object \n",
      " 21  GEOLOCATION                483265 non-null  object \n",
      "dtypes: float64(4), object(18)\n",
      "memory usage: 82.3+ MB\n"
     ]
    }
   ],
   "source": [
    "df.info()"
   ]
  },
  {
   "cell_type": "code",
   "execution_count": 6,
   "metadata": {},
   "outputs": [
    {
     "data": {
      "text/html": [
       "<div>\n",
       "<style scoped>\n",
       "    .dataframe tbody tr th:only-of-type {\n",
       "        vertical-align: middle;\n",
       "    }\n",
       "\n",
       "    .dataframe tbody tr th {\n",
       "        vertical-align: top;\n",
       "    }\n",
       "\n",
       "    .dataframe thead th {\n",
       "        text-align: right;\n",
       "    }\n",
       "</style>\n",
       "<table border=\"1\" class=\"dataframe\">\n",
       "  <thead>\n",
       "    <tr style=\"text-align: right;\">\n",
       "      <th></th>\n",
       "      <th>FILE NUMBER</th>\n",
       "      <th>ADDRESS NUMBER</th>\n",
       "      <th>ZIP CODE</th>\n",
       "      <th>COUNCIL DISTRICT</th>\n",
       "    </tr>\n",
       "  </thead>\n",
       "  <tbody>\n",
       "    <tr>\n",
       "      <th>count</th>\n",
       "      <td>4.832650e+05</td>\n",
       "      <td>482448.000000</td>\n",
       "      <td>487531.000000</td>\n",
       "      <td>487263.000000</td>\n",
       "    </tr>\n",
       "    <tr>\n",
       "      <th>mean</th>\n",
       "      <td>1.516993e+09</td>\n",
       "      <td>4351.193814</td>\n",
       "      <td>70811.595012</td>\n",
       "      <td>7.749476</td>\n",
       "    </tr>\n",
       "    <tr>\n",
       "      <th>std</th>\n",
       "      <td>2.892894e+08</td>\n",
       "      <td>3459.700401</td>\n",
       "      <td>1845.609933</td>\n",
       "      <td>2.834581</td>\n",
       "    </tr>\n",
       "    <tr>\n",
       "      <th>min</th>\n",
       "      <td>1.000000e+09</td>\n",
       "      <td>1.000000</td>\n",
       "      <td>1.000000</td>\n",
       "      <td>1.000000</td>\n",
       "    </tr>\n",
       "    <tr>\n",
       "      <th>25%</th>\n",
       "      <td>1.300007e+09</td>\n",
       "      <td>1689.000000</td>\n",
       "      <td>70805.000000</td>\n",
       "      <td>6.000000</td>\n",
       "    </tr>\n",
       "    <tr>\n",
       "      <th>50%</th>\n",
       "      <td>1.500072e+09</td>\n",
       "      <td>3484.000000</td>\n",
       "      <td>70806.000000</td>\n",
       "      <td>7.000000</td>\n",
       "    </tr>\n",
       "    <tr>\n",
       "      <th>75%</th>\n",
       "      <td>1.800015e+09</td>\n",
       "      <td>5963.000000</td>\n",
       "      <td>70811.000000</td>\n",
       "      <td>10.000000</td>\n",
       "    </tr>\n",
       "    <tr>\n",
       "      <th>max</th>\n",
       "      <td>5.500004e+09</td>\n",
       "      <td>99999.000000</td>\n",
       "      <td>708078.000000</td>\n",
       "      <td>12.000000</td>\n",
       "    </tr>\n",
       "  </tbody>\n",
       "</table>\n",
       "</div>"
      ],
      "text/plain": [
       "        FILE NUMBER  ADDRESS NUMBER       ZIP CODE  COUNCIL DISTRICT\n",
       "count  4.832650e+05   482448.000000  487531.000000     487263.000000\n",
       "mean   1.516993e+09     4351.193814   70811.595012          7.749476\n",
       "std    2.892894e+08     3459.700401    1845.609933          2.834581\n",
       "min    1.000000e+09        1.000000       1.000000          1.000000\n",
       "25%    1.300007e+09     1689.000000   70805.000000          6.000000\n",
       "50%    1.500072e+09     3484.000000   70806.000000          7.000000\n",
       "75%    1.800015e+09     5963.000000   70811.000000         10.000000\n",
       "max    5.500004e+09    99999.000000  708078.000000         12.000000"
      ]
     },
     "execution_count": 6,
     "metadata": {},
     "output_type": "execute_result"
    }
   ],
   "source": [
    "df.describe()"
   ]
  },
  {
   "cell_type": "code",
   "execution_count": 7,
   "metadata": {},
   "outputs": [
    {
     "data": {
      "text/plain": [
       "FILE NUMBER                   1.490691\n",
       "OFFENSE DATE                  0.000000\n",
       "OFFENSE TIME                  0.000000\n",
       "CRIME                         0.000000\n",
       "COMMITTED                     0.000000\n",
       "OFFENSE                       0.000000\n",
       "OFFENSE DESCRIPTION           0.000000\n",
       "FULL ADDRESS                  1.490691\n",
       "ADDRESS NUMBER                1.657229\n",
       "STREET DIRECTION             83.642968\n",
       "STREET NAME                   1.490691\n",
       "STREET TYPE                   4.874454\n",
       "CITY                          1.490691\n",
       "STATE                         1.490691\n",
       "ZIP CODE                      0.621104\n",
       "DISTRICT                      4.713216\n",
       "ZONE                          4.713216\n",
       "SUBZONE                       4.713216\n",
       "COMPLETE DISTRICT             4.713216\n",
       "COUNCIL DISTRICT              0.675734\n",
       "CRIME PREVENTION DISTRICT     0.673695\n",
       "GEOLOCATION                   1.490691\n",
       "dtype: float64"
      ]
     },
     "execution_count": 7,
     "metadata": {},
     "output_type": "execute_result"
    }
   ],
   "source": [
    "# Finding percentage of null values in every column.\n",
    "df.isnull().sum()* 100 /len(df)"
   ]
  },
  {
   "cell_type": "markdown",
   "metadata": {},
   "source": [
    "## 2. DROPPING COLUMNS FILE NUMBER AND STREET DIRECTION \n",
    "## & COLUMNS CONTAINING NULL VALUES"
   ]
  },
  {
   "cell_type": "code",
   "execution_count": 8,
   "metadata": {},
   "outputs": [],
   "source": [
    "#Droping Columns \n",
    "df.drop(labels= {\"FILE NUMBER\",  \"STREET DIRECTION\"}, axis =1 , inplace = True)"
   ]
  },
  {
   "cell_type": "code",
   "execution_count": 18,
   "metadata": {},
   "outputs": [
    {
     "data": {
      "text/plain": [
       "20"
      ]
     },
     "execution_count": 18,
     "metadata": {},
     "output_type": "execute_result"
    }
   ],
   "source": [
    "pd.get_option(\"display.max_columns\", None)"
   ]
  },
  {
   "cell_type": "code",
   "execution_count": 58,
   "metadata": {},
   "outputs": [
    {
     "data": {
      "text/plain": [
       "Index(['OFFENSE TIME', 'FULL ADDRESS', 'ADDRESS NUMBER', 'STREET NAME',\n",
       "       'STREET TYPE', 'CITY', 'STATE', 'ZIP CODE', 'DISTRICT', 'ZONE',\n",
       "       'SUBZONE', 'COMPLETE DISTRICT', 'COUNCIL DISTRICT',\n",
       "       'CRIME PREVENTION DISTRICT', 'GEOLOCATION', 'LATITUDE', 'LONGITUDE'],\n",
       "      dtype='object')"
      ]
     },
     "execution_count": 58,
     "metadata": {},
     "output_type": "execute_result"
    }
   ],
   "source": [
    "## Getting Column names having null more than zero. \n",
    "df.isnull().sum()[df.isnull().sum() > 0].index"
   ]
  },
  {
   "cell_type": "code",
   "execution_count": 59,
   "metadata": {},
   "outputs": [],
   "source": [
    "Columns_with_null = ['FULL ADDRESS', 'ADDRESS NUMBER', 'OFFENSE TIME', 'STREET NAME', 'STREET TYPE', 'CITY',\n",
    "       'STATE', 'ZIP CODE', 'DISTRICT', 'ZONE', 'SUBZONE', 'COMPLETE DISTRICT',\n",
    "       'COUNCIL DISTRICT', 'CRIME PREVENTION DISTRICT', 'GEOLOCATION',\n",
    "       'LONGITUDE', 'LATITUDE']"
   ]
  },
  {
   "cell_type": "code",
   "execution_count": 64,
   "metadata": {},
   "outputs": [],
   "source": [
    "# Deleting all null rows from the columns.\n",
    "df.dropna(axis = 0 , inplace = True, subset = Columns_with_null)"
   ]
  },
  {
   "cell_type": "markdown",
   "metadata": {},
   "source": [
    "### Number of Null in every column."
   ]
  },
  {
   "cell_type": "code",
   "execution_count": 65,
   "metadata": {},
   "outputs": [
    {
     "data": {
      "text/plain": [
       "OFFENSE DATE                 0\n",
       "OFFENSE TIME                 0\n",
       "CRIME                        0\n",
       "COMMITTED                    0\n",
       "OFFENSE                      0\n",
       "OFFENSE DESCRIPTION          0\n",
       "FULL ADDRESS                 0\n",
       "ADDRESS NUMBER               0\n",
       "STREET NAME                  0\n",
       "STREET TYPE                  0\n",
       "CITY                         0\n",
       "STATE                        0\n",
       "ZIP CODE                     0\n",
       "DISTRICT                     0\n",
       "ZONE                         0\n",
       "SUBZONE                      0\n",
       "COMPLETE DISTRICT            0\n",
       "COUNCIL DISTRICT             0\n",
       "CRIME PREVENTION DISTRICT    0\n",
       "GEOLOCATION                  0\n",
       "LATITUDE                     0\n",
       "LONGITUDE                    0\n",
       "dtype: int64"
      ]
     },
     "execution_count": 65,
     "metadata": {},
     "output_type": "execute_result"
    }
   ],
   "source": [
    "df.isnull().sum()"
   ]
  },
  {
   "cell_type": "markdown",
   "metadata": {},
   "source": [
    "## 3. CHANGING COLUMN DATA TYPES "
   ]
  },
  {
   "cell_type": "code",
   "execution_count": 14,
   "metadata": {},
   "outputs": [],
   "source": [
    "df[\"OFFENSE DATE\"] = pd.to_datetime(df[\"OFFENSE DATE\"]) ## OFFENSE DATE"
   ]
  },
  {
   "cell_type": "code",
   "execution_count": 15,
   "metadata": {},
   "outputs": [],
   "source": [
    "# Sorting data frame on dates\n",
    "\n",
    "df.sort_values(by = \"OFFENSE DATE\", inplace = True)"
   ]
  },
  {
   "cell_type": "code",
   "execution_count": 16,
   "metadata": {},
   "outputs": [],
   "source": [
    "# Re-indexing the dataframe\n",
    "df.reset_index(drop =True, inplace = True)"
   ]
  },
  {
   "cell_type": "code",
   "execution_count": 34,
   "metadata": {},
   "outputs": [],
   "source": [
    "# Converting object to int type data and deleting the object-int mix data. \n",
    "df[\"OFFENSE TIME\"] = pd.to_numeric(df[\"OFFENSE TIME\"], errors =\"coerce\") # OFFENSE TIME"
   ]
  },
  {
   "cell_type": "markdown",
   "metadata": {},
   "source": [
    "## 4.FINDING & REMOVING OUTLIERS FROM ZIP CODE COLUMN"
   ]
  },
  {
   "cell_type": "code",
   "execution_count": 17,
   "metadata": {},
   "outputs": [
    {
     "data": {
      "text/html": [
       "<div>\n",
       "<style scoped>\n",
       "    .dataframe tbody tr th:only-of-type {\n",
       "        vertical-align: middle;\n",
       "    }\n",
       "\n",
       "    .dataframe tbody tr th {\n",
       "        vertical-align: top;\n",
       "    }\n",
       "\n",
       "    .dataframe thead th {\n",
       "        text-align: right;\n",
       "    }\n",
       "</style>\n",
       "<table border=\"1\" class=\"dataframe\">\n",
       "  <thead>\n",
       "    <tr style=\"text-align: right;\">\n",
       "      <th></th>\n",
       "      <th>ADDRESS NUMBER</th>\n",
       "      <th>ZIP CODE</th>\n",
       "      <th>COUNCIL DISTRICT</th>\n",
       "    </tr>\n",
       "  </thead>\n",
       "  <tbody>\n",
       "    <tr>\n",
       "      <th>count</th>\n",
       "      <td>482448.000000</td>\n",
       "      <td>487531.000000</td>\n",
       "      <td>487263.000000</td>\n",
       "    </tr>\n",
       "    <tr>\n",
       "      <th>mean</th>\n",
       "      <td>4351.193814</td>\n",
       "      <td>70811.595012</td>\n",
       "      <td>7.749476</td>\n",
       "    </tr>\n",
       "    <tr>\n",
       "      <th>std</th>\n",
       "      <td>3459.700401</td>\n",
       "      <td>1845.609933</td>\n",
       "      <td>2.834581</td>\n",
       "    </tr>\n",
       "    <tr>\n",
       "      <th>min</th>\n",
       "      <td>1.000000</td>\n",
       "      <td>1.000000</td>\n",
       "      <td>1.000000</td>\n",
       "    </tr>\n",
       "    <tr>\n",
       "      <th>25%</th>\n",
       "      <td>1689.000000</td>\n",
       "      <td>70805.000000</td>\n",
       "      <td>6.000000</td>\n",
       "    </tr>\n",
       "    <tr>\n",
       "      <th>50%</th>\n",
       "      <td>3484.000000</td>\n",
       "      <td>70806.000000</td>\n",
       "      <td>7.000000</td>\n",
       "    </tr>\n",
       "    <tr>\n",
       "      <th>75%</th>\n",
       "      <td>5963.000000</td>\n",
       "      <td>70811.000000</td>\n",
       "      <td>10.000000</td>\n",
       "    </tr>\n",
       "    <tr>\n",
       "      <th>max</th>\n",
       "      <td>99999.000000</td>\n",
       "      <td>708078.000000</td>\n",
       "      <td>12.000000</td>\n",
       "    </tr>\n",
       "  </tbody>\n",
       "</table>\n",
       "</div>"
      ],
      "text/plain": [
       "       ADDRESS NUMBER       ZIP CODE  COUNCIL DISTRICT\n",
       "count   482448.000000  487531.000000     487263.000000\n",
       "mean      4351.193814   70811.595012          7.749476\n",
       "std       3459.700401    1845.609933          2.834581\n",
       "min          1.000000       1.000000          1.000000\n",
       "25%       1689.000000   70805.000000          6.000000\n",
       "50%       3484.000000   70806.000000          7.000000\n",
       "75%       5963.000000   70811.000000         10.000000\n",
       "max      99999.000000  708078.000000         12.000000"
      ]
     },
     "execution_count": 17,
     "metadata": {},
     "output_type": "execute_result"
    }
   ],
   "source": [
    "df.describe()"
   ]
  },
  {
   "cell_type": "code",
   "execution_count": 22,
   "metadata": {},
   "outputs": [
    {
     "data": {
      "image/png": "[encoded data removed]",
      "text/plain": [
       "<Figure size 432x288 with 1 Axes>"
      ]
     },
     "metadata": {
      "needs_background": "light"
     },
     "output_type": "display_data"
    }
   ],
   "source": [
    "# checking statistical outliers\n",
    "df.boxplot();"
   ]
  },
  {
   "cell_type": "code",
   "execution_count": 23,
   "metadata": {},
   "outputs": [
    {
     "data": {
      "text/plain": [
       "Int64Index([54795, 69562, 160031, 228289, 229805, 260476, 321190], dtype='int64')"
      ]
     },
     "execution_count": 23,
     "metadata": {},
     "output_type": "execute_result"
    }
   ],
   "source": [
    "df[df[\"ZIP CODE\"] > 70898].index # 7 rows above 70898 found"
   ]
  },
  {
   "cell_type": "code",
   "execution_count": 24,
   "metadata": {},
   "outputs": [],
   "source": [
    "Zip_code_above_range = df[df[\"ZIP CODE\"] > 70898].index"
   ]
  },
  {
   "cell_type": "code",
   "execution_count": 25,
   "metadata": {},
   "outputs": [],
   "source": [
    "df.drop(axis = 0, inplace = True, index = Zip_code_above_range)"
   ]
  },
  {
   "cell_type": "code",
   "execution_count": 26,
   "metadata": {},
   "outputs": [],
   "source": [
    "df.reset_index(drop = True, inplace = True)"
   ]
  },
  {
   "cell_type": "code",
   "execution_count": 27,
   "metadata": {},
   "outputs": [
    {
     "data": {
      "text/plain": [
       "Int64Index([ 13233,  14129,  18561,  21954,  34045,  37229,  52546,  54547,\n",
       "             55864, 114882, 120498, 140342, 140933, 141338, 143413, 143465,\n",
       "            157648, 168514, 185521, 188862, 210072, 214499, 227312, 243886,\n",
       "            256223, 281659, 281678, 281697, 285710, 288525, 290013, 296633,\n",
       "            308859, 315201, 328119, 335183, 351839, 352797, 353324, 363372,\n",
       "            367999, 370982, 378309, 379627, 395911, 396229, 399566, 428310,\n",
       "            429797, 434981, 437445, 441838, 450994, 453341, 469706, 489630],\n",
       "           dtype='int64')"
      ]
     },
     "execution_count": 27,
     "metadata": {},
     "output_type": "execute_result"
    }
   ],
   "source": [
    "df[df[\"ZIP CODE\"] < 70801].index # 56 rows below 70801 found "
   ]
  },
  {
   "cell_type": "code",
   "execution_count": 28,
   "metadata": {},
   "outputs": [],
   "source": [
    "Zip_code_below_range = df[df[\"ZIP CODE\"] < 70801].index"
   ]
  },
  {
   "cell_type": "code",
   "execution_count": 29,
   "metadata": {},
   "outputs": [],
   "source": [
    "df.drop(axis = 0, inplace = True, index = Zip_code_below_range)"
   ]
  },
  {
   "cell_type": "code",
   "execution_count": 30,
   "metadata": {},
   "outputs": [],
   "source": [
    "df.reset_index(drop = True, inplace = True)"
   ]
  },
  {
   "cell_type": "code",
   "execution_count": 31,
   "metadata": {},
   "outputs": [
    {
     "data": {
      "image/png": "[encoded data removed]",
      "text/plain": [
       "<Figure size 432x288 with 1 Axes>"
      ]
     },
     "metadata": {
      "needs_background": "light"
     },
     "output_type": "display_data"
    }
   ],
   "source": [
    "df[\"ZIP CODE\"].plot(kind = \"box\");"
   ]
  },
  {
   "cell_type": "code",
   "execution_count": 32,
   "metadata": {},
   "outputs": [
    {
     "data": {
      "text/html": [
       "<div>\n",
       "<style scoped>\n",
       "    .dataframe tbody tr th:only-of-type {\n",
       "        vertical-align: middle;\n",
       "    }\n",
       "\n",
       "    .dataframe tbody tr th {\n",
       "        vertical-align: top;\n",
       "    }\n",
       "\n",
       "    .dataframe thead th {\n",
       "        text-align: right;\n",
       "    }\n",
       "</style>\n",
       "<table border=\"1\" class=\"dataframe\">\n",
       "  <thead>\n",
       "    <tr style=\"text-align: right;\">\n",
       "      <th></th>\n",
       "      <th>ADDRESS NUMBER</th>\n",
       "      <th>ZIP CODE</th>\n",
       "      <th>COUNCIL DISTRICT</th>\n",
       "    </tr>\n",
       "  </thead>\n",
       "  <tbody>\n",
       "    <tr>\n",
       "      <th>count</th>\n",
       "      <td>482389.000000</td>\n",
       "      <td>487468.000000</td>\n",
       "      <td>487247.000000</td>\n",
       "    </tr>\n",
       "    <tr>\n",
       "      <th>mean</th>\n",
       "      <td>4350.543551</td>\n",
       "      <td>70808.020180</td>\n",
       "      <td>7.749605</td>\n",
       "    </tr>\n",
       "    <tr>\n",
       "      <th>std</th>\n",
       "      <td>3456.134618</td>\n",
       "      <td>5.234276</td>\n",
       "      <td>2.834498</td>\n",
       "    </tr>\n",
       "    <tr>\n",
       "      <th>min</th>\n",
       "      <td>1.000000</td>\n",
       "      <td>70801.000000</td>\n",
       "      <td>1.000000</td>\n",
       "    </tr>\n",
       "    <tr>\n",
       "      <th>25%</th>\n",
       "      <td>1689.000000</td>\n",
       "      <td>70805.000000</td>\n",
       "      <td>6.000000</td>\n",
       "    </tr>\n",
       "    <tr>\n",
       "      <th>50%</th>\n",
       "      <td>3484.000000</td>\n",
       "      <td>70806.000000</td>\n",
       "      <td>7.000000</td>\n",
       "    </tr>\n",
       "    <tr>\n",
       "      <th>75%</th>\n",
       "      <td>5962.000000</td>\n",
       "      <td>70811.000000</td>\n",
       "      <td>10.000000</td>\n",
       "    </tr>\n",
       "    <tr>\n",
       "      <th>max</th>\n",
       "      <td>99999.000000</td>\n",
       "      <td>70895.000000</td>\n",
       "      <td>12.000000</td>\n",
       "    </tr>\n",
       "  </tbody>\n",
       "</table>\n",
       "</div>"
      ],
      "text/plain": [
       "       ADDRESS NUMBER       ZIP CODE  COUNCIL DISTRICT\n",
       "count   482389.000000  487468.000000     487247.000000\n",
       "mean      4350.543551   70808.020180          7.749605\n",
       "std       3456.134618       5.234276          2.834498\n",
       "min          1.000000   70801.000000          1.000000\n",
       "25%       1689.000000   70805.000000          6.000000\n",
       "50%       3484.000000   70806.000000          7.000000\n",
       "75%       5962.000000   70811.000000         10.000000\n",
       "max      99999.000000   70895.000000         12.000000"
      ]
     },
     "execution_count": 32,
     "metadata": {},
     "output_type": "execute_result"
    }
   ],
   "source": [
    "df.describe()"
   ]
  },
  {
   "cell_type": "markdown",
   "metadata": {},
   "source": [
    "### 5. FINDING AND REMOVING DUPLICATE ROWS "
   ]
  },
  {
   "cell_type": "code",
   "execution_count": 40,
   "metadata": {},
   "outputs": [
    {
     "data": {
      "text/html": [
       "<div>\n",
       "<style scoped>\n",
       "    .dataframe tbody tr th:only-of-type {\n",
       "        vertical-align: middle;\n",
       "    }\n",
       "\n",
       "    .dataframe tbody tr th {\n",
       "        vertical-align: top;\n",
       "    }\n",
       "\n",
       "    .dataframe thead th {\n",
       "        text-align: right;\n",
       "    }\n",
       "</style>\n",
       "<table border=\"1\" class=\"dataframe\">\n",
       "  <thead>\n",
       "    <tr style=\"text-align: right;\">\n",
       "      <th></th>\n",
       "      <th>OFFENSE DATE</th>\n",
       "      <th>OFFENSE TIME</th>\n",
       "      <th>CRIME</th>\n",
       "      <th>COMMITTED</th>\n",
       "      <th>OFFENSE</th>\n",
       "      <th>OFFENSE DESCRIPTION</th>\n",
       "      <th>FULL ADDRESS</th>\n",
       "      <th>ADDRESS NUMBER</th>\n",
       "      <th>STREET NAME</th>\n",
       "      <th>STREET TYPE</th>\n",
       "      <th>CITY</th>\n",
       "      <th>STATE</th>\n",
       "      <th>ZIP CODE</th>\n",
       "      <th>DISTRICT</th>\n",
       "      <th>ZONE</th>\n",
       "      <th>SUBZONE</th>\n",
       "      <th>COMPLETE DISTRICT</th>\n",
       "      <th>COUNCIL DISTRICT</th>\n",
       "      <th>CRIME PREVENTION DISTRICT</th>\n",
       "      <th>GEOLOCATION</th>\n",
       "    </tr>\n",
       "  </thead>\n",
       "  <tbody>\n",
       "    <tr>\n",
       "      <th>459</th>\n",
       "      <td>2011-01-03</td>\n",
       "      <td>1900.0</td>\n",
       "      <td>CRIMINAL DAMAGE TO PROPERTY</td>\n",
       "      <td>COMMITTED</td>\n",
       "      <td>13:56</td>\n",
       "      <td>CRIM DAM TO PROP/SIMPLE/CC</td>\n",
       "      <td>1150 TERRACE ST</td>\n",
       "      <td>1150.0</td>\n",
       "      <td>TERRACE</td>\n",
       "      <td>ST</td>\n",
       "      <td>BATON ROUGE</td>\n",
       "      <td>LA</td>\n",
       "      <td>70802.0</td>\n",
       "      <td>2</td>\n",
       "      <td>D</td>\n",
       "      <td>1</td>\n",
       "      <td>2D1</td>\n",
       "      <td>10.0</td>\n",
       "      <td>NONE</td>\n",
       "      <td>1150 TERRACE ST\\nBATON ROUGE, LA 70802\\n(30.43...</td>\n",
       "    </tr>\n",
       "    <tr>\n",
       "      <th>1625</th>\n",
       "      <td>2011-01-10</td>\n",
       "      <td>1800.0</td>\n",
       "      <td>NON-RESIDENTIAL BURGLARY</td>\n",
       "      <td>COMMITTED</td>\n",
       "      <td>14:62/NRUF</td>\n",
       "      <td>BURG/S NON RES UNK FORCE</td>\n",
       "      <td>4756 NORTH BL</td>\n",
       "      <td>4756.0</td>\n",
       "      <td>NORTH</td>\n",
       "      <td>BL</td>\n",
       "      <td>BATON ROUGE</td>\n",
       "      <td>LA</td>\n",
       "      <td>70806.0</td>\n",
       "      <td>2</td>\n",
       "      <td>B</td>\n",
       "      <td>1</td>\n",
       "      <td>2B1</td>\n",
       "      <td>7.0</td>\n",
       "      <td>NONE</td>\n",
       "      <td>4756 NORTH BL\\nBATON ROUGE, LA 70808\\n(30.4538...</td>\n",
       "    </tr>\n",
       "    <tr>\n",
       "      <th>1777</th>\n",
       "      <td>2011-01-12</td>\n",
       "      <td>2000.0</td>\n",
       "      <td>NON-RESIDENTIAL BURGLARY</td>\n",
       "      <td>COMMITTED</td>\n",
       "      <td>14:62/NRNF</td>\n",
       "      <td>BURG/S NON RES NIGHT FORCE</td>\n",
       "      <td>7375 AIRLINE HW</td>\n",
       "      <td>7375.0</td>\n",
       "      <td>AIRLINE</td>\n",
       "      <td>HW</td>\n",
       "      <td>BATON ROUGE</td>\n",
       "      <td>LA</td>\n",
       "      <td>70814.0</td>\n",
       "      <td>3</td>\n",
       "      <td>A</td>\n",
       "      <td>1</td>\n",
       "      <td>3A1</td>\n",
       "      <td>5.0</td>\n",
       "      <td>NONE</td>\n",
       "      <td>7375 AIRLINE HW\\nBATON ROUGE, LA 70814</td>\n",
       "    </tr>\n",
       "    <tr>\n",
       "      <th>1790</th>\n",
       "      <td>2011-01-12</td>\n",
       "      <td>2000.0</td>\n",
       "      <td>NON-RESIDENTIAL BURGLARY</td>\n",
       "      <td>COMMITTED</td>\n",
       "      <td>14:62/NRNF</td>\n",
       "      <td>BURG/S NON RES NIGHT FORCE</td>\n",
       "      <td>7375 AIRLINE HW</td>\n",
       "      <td>7375.0</td>\n",
       "      <td>AIRLINE</td>\n",
       "      <td>HW</td>\n",
       "      <td>BATON ROUGE</td>\n",
       "      <td>LA</td>\n",
       "      <td>70814.0</td>\n",
       "      <td>3</td>\n",
       "      <td>A</td>\n",
       "      <td>1</td>\n",
       "      <td>3A1</td>\n",
       "      <td>5.0</td>\n",
       "      <td>NONE</td>\n",
       "      <td>7375 AIRLINE HW\\nBATON ROUGE, LA 70814</td>\n",
       "    </tr>\n",
       "    <tr>\n",
       "      <th>1797</th>\n",
       "      <td>2011-01-12</td>\n",
       "      <td>2000.0</td>\n",
       "      <td>NON-RESIDENTIAL BURGLARY</td>\n",
       "      <td>COMMITTED</td>\n",
       "      <td>14:62/NRNF</td>\n",
       "      <td>BURG/S NON RES NIGHT FORCE</td>\n",
       "      <td>7375 AIRLINE HW</td>\n",
       "      <td>7375.0</td>\n",
       "      <td>AIRLINE</td>\n",
       "      <td>HW</td>\n",
       "      <td>BATON ROUGE</td>\n",
       "      <td>LA</td>\n",
       "      <td>70814.0</td>\n",
       "      <td>3</td>\n",
       "      <td>A</td>\n",
       "      <td>1</td>\n",
       "      <td>3A1</td>\n",
       "      <td>5.0</td>\n",
       "      <td>NONE</td>\n",
       "      <td>7375 AIRLINE HW\\nBATON ROUGE, LA 70814</td>\n",
       "    </tr>\n",
       "    <tr>\n",
       "      <th>1829</th>\n",
       "      <td>2011-01-12</td>\n",
       "      <td>2000.0</td>\n",
       "      <td>NON-RESIDENTIAL BURGLARY</td>\n",
       "      <td>COMMITTED</td>\n",
       "      <td>14:62/NRNF</td>\n",
       "      <td>BURG/S NON RES NIGHT FORCE</td>\n",
       "      <td>7375 AIRLINE HW</td>\n",
       "      <td>7375.0</td>\n",
       "      <td>AIRLINE</td>\n",
       "      <td>HW</td>\n",
       "      <td>BATON ROUGE</td>\n",
       "      <td>LA</td>\n",
       "      <td>70814.0</td>\n",
       "      <td>3</td>\n",
       "      <td>A</td>\n",
       "      <td>1</td>\n",
       "      <td>3A1</td>\n",
       "      <td>5.0</td>\n",
       "      <td>NONE</td>\n",
       "      <td>7375 AIRLINE HW\\nBATON ROUGE, LA 70814</td>\n",
       "    </tr>\n",
       "    <tr>\n",
       "      <th>1838</th>\n",
       "      <td>2011-01-12</td>\n",
       "      <td>2000.0</td>\n",
       "      <td>NON-RESIDENTIAL BURGLARY</td>\n",
       "      <td>COMMITTED</td>\n",
       "      <td>14:62/NRNF</td>\n",
       "      <td>BURG/S NON RES NIGHT FORCE</td>\n",
       "      <td>7375 AIRLINE HW</td>\n",
       "      <td>7375.0</td>\n",
       "      <td>AIRLINE</td>\n",
       "      <td>HW</td>\n",
       "      <td>BATON ROUGE</td>\n",
       "      <td>LA</td>\n",
       "      <td>70814.0</td>\n",
       "      <td>3</td>\n",
       "      <td>A</td>\n",
       "      <td>1</td>\n",
       "      <td>3A1</td>\n",
       "      <td>5.0</td>\n",
       "      <td>NONE</td>\n",
       "      <td>7375 AIRLINE HW\\nBATON ROUGE, LA 70814</td>\n",
       "    </tr>\n",
       "    <tr>\n",
       "      <th>1843</th>\n",
       "      <td>2011-01-12</td>\n",
       "      <td>2000.0</td>\n",
       "      <td>NON-RESIDENTIAL BURGLARY</td>\n",
       "      <td>COMMITTED</td>\n",
       "      <td>14:62/NRNF</td>\n",
       "      <td>BURG/S NON RES NIGHT FORCE</td>\n",
       "      <td>7375 AIRLINE HW</td>\n",
       "      <td>7375.0</td>\n",
       "      <td>AIRLINE</td>\n",
       "      <td>HW</td>\n",
       "      <td>BATON ROUGE</td>\n",
       "      <td>LA</td>\n",
       "      <td>70814.0</td>\n",
       "      <td>3</td>\n",
       "      <td>A</td>\n",
       "      <td>1</td>\n",
       "      <td>3A1</td>\n",
       "      <td>5.0</td>\n",
       "      <td>NONE</td>\n",
       "      <td>7375 AIRLINE HW\\nBATON ROUGE, LA 70815</td>\n",
       "    </tr>\n",
       "    <tr>\n",
       "      <th>1845</th>\n",
       "      <td>2011-01-12</td>\n",
       "      <td>2000.0</td>\n",
       "      <td>NON-RESIDENTIAL BURGLARY</td>\n",
       "      <td>COMMITTED</td>\n",
       "      <td>14:62/NRNF</td>\n",
       "      <td>BURG/S NON RES NIGHT FORCE</td>\n",
       "      <td>7375 AIRLINE HW</td>\n",
       "      <td>7375.0</td>\n",
       "      <td>AIRLINE</td>\n",
       "      <td>HW</td>\n",
       "      <td>BATON ROUGE</td>\n",
       "      <td>LA</td>\n",
       "      <td>70814.0</td>\n",
       "      <td>3</td>\n",
       "      <td>A</td>\n",
       "      <td>1</td>\n",
       "      <td>3A1</td>\n",
       "      <td>5.0</td>\n",
       "      <td>NONE</td>\n",
       "      <td>7375 AIRLINE HW\\nBATON ROUGE, LA 70814</td>\n",
       "    </tr>\n",
       "    <tr>\n",
       "      <th>1864</th>\n",
       "      <td>2011-01-12</td>\n",
       "      <td>2000.0</td>\n",
       "      <td>NON-RESIDENTIAL BURGLARY</td>\n",
       "      <td>COMMITTED</td>\n",
       "      <td>14:62/NRNF</td>\n",
       "      <td>BURG/S NON RES NIGHT FORCE</td>\n",
       "      <td>7375 AIRLINE HW</td>\n",
       "      <td>7375.0</td>\n",
       "      <td>AIRLINE</td>\n",
       "      <td>HW</td>\n",
       "      <td>BATON ROUGE</td>\n",
       "      <td>LA</td>\n",
       "      <td>70814.0</td>\n",
       "      <td>3</td>\n",
       "      <td>A</td>\n",
       "      <td>1</td>\n",
       "      <td>3A1</td>\n",
       "      <td>5.0</td>\n",
       "      <td>NONE</td>\n",
       "      <td>7375 AIRLINE HW\\nBATON ROUGE, LA 70814</td>\n",
       "    </tr>\n",
       "  </tbody>\n",
       "</table>\n",
       "</div>"
      ],
      "text/plain": [
       "     OFFENSE DATE  OFFENSE TIME                        CRIME  COMMITTED  \\\n",
       "459    2011-01-03        1900.0  CRIMINAL DAMAGE TO PROPERTY  COMMITTED   \n",
       "1625   2011-01-10        1800.0     NON-RESIDENTIAL BURGLARY  COMMITTED   \n",
       "1777   2011-01-12        2000.0     NON-RESIDENTIAL BURGLARY  COMMITTED   \n",
       "1790   2011-01-12        2000.0     NON-RESIDENTIAL BURGLARY  COMMITTED   \n",
       "1797   2011-01-12        2000.0     NON-RESIDENTIAL BURGLARY  COMMITTED   \n",
       "1829   2011-01-12        2000.0     NON-RESIDENTIAL BURGLARY  COMMITTED   \n",
       "1838   2011-01-12        2000.0     NON-RESIDENTIAL BURGLARY  COMMITTED   \n",
       "1843   2011-01-12        2000.0     NON-RESIDENTIAL BURGLARY  COMMITTED   \n",
       "1845   2011-01-12        2000.0     NON-RESIDENTIAL BURGLARY  COMMITTED   \n",
       "1864   2011-01-12        2000.0     NON-RESIDENTIAL BURGLARY  COMMITTED   \n",
       "\n",
       "         OFFENSE         OFFENSE DESCRIPTION     FULL ADDRESS  ADDRESS NUMBER  \\\n",
       "459        13:56  CRIM DAM TO PROP/SIMPLE/CC  1150 TERRACE ST          1150.0   \n",
       "1625  14:62/NRUF    BURG/S NON RES UNK FORCE    4756 NORTH BL          4756.0   \n",
       "1777  14:62/NRNF  BURG/S NON RES NIGHT FORCE  7375 AIRLINE HW          7375.0   \n",
       "1790  14:62/NRNF  BURG/S NON RES NIGHT FORCE  7375 AIRLINE HW          7375.0   \n",
       "1797  14:62/NRNF  BURG/S NON RES NIGHT FORCE  7375 AIRLINE HW          7375.0   \n",
       "1829  14:62/NRNF  BURG/S NON RES NIGHT FORCE  7375 AIRLINE HW          7375.0   \n",
       "1838  14:62/NRNF  BURG/S NON RES NIGHT FORCE  7375 AIRLINE HW          7375.0   \n",
       "1843  14:62/NRNF  BURG/S NON RES NIGHT FORCE  7375 AIRLINE HW          7375.0   \n",
       "1845  14:62/NRNF  BURG/S NON RES NIGHT FORCE  7375 AIRLINE HW          7375.0   \n",
       "1864  14:62/NRNF  BURG/S NON RES NIGHT FORCE  7375 AIRLINE HW          7375.0   \n",
       "\n",
       "     STREET NAME STREET TYPE         CITY STATE  ZIP CODE DISTRICT ZONE  \\\n",
       "459      TERRACE          ST  BATON ROUGE    LA   70802.0        2    D   \n",
       "1625       NORTH          BL  BATON ROUGE    LA   70806.0        2    B   \n",
       "1777     AIRLINE          HW  BATON ROUGE    LA   70814.0        3    A   \n",
       "1790     AIRLINE          HW  BATON ROUGE    LA   70814.0        3    A   \n",
       "1797     AIRLINE          HW  BATON ROUGE    LA   70814.0        3    A   \n",
       "1829     AIRLINE          HW  BATON ROUGE    LA   70814.0        3    A   \n",
       "1838     AIRLINE          HW  BATON ROUGE    LA   70814.0        3    A   \n",
       "1843     AIRLINE          HW  BATON ROUGE    LA   70814.0        3    A   \n",
       "1845     AIRLINE          HW  BATON ROUGE    LA   70814.0        3    A   \n",
       "1864     AIRLINE          HW  BATON ROUGE    LA   70814.0        3    A   \n",
       "\n",
       "     SUBZONE COMPLETE DISTRICT  COUNCIL DISTRICT CRIME PREVENTION DISTRICT  \\\n",
       "459        1               2D1              10.0                      NONE   \n",
       "1625       1               2B1               7.0                      NONE   \n",
       "1777       1               3A1               5.0                      NONE   \n",
       "1790       1               3A1               5.0                      NONE   \n",
       "1797       1               3A1               5.0                      NONE   \n",
       "1829       1               3A1               5.0                      NONE   \n",
       "1838       1               3A1               5.0                      NONE   \n",
       "1843       1               3A1               5.0                      NONE   \n",
       "1845       1               3A1               5.0                      NONE   \n",
       "1864       1               3A1               5.0                      NONE   \n",
       "\n",
       "                                            GEOLOCATION  \n",
       "459   1150 TERRACE ST\\nBATON ROUGE, LA 70802\\n(30.43...  \n",
       "1625  4756 NORTH BL\\nBATON ROUGE, LA 70808\\n(30.4538...  \n",
       "1777             7375 AIRLINE HW\\nBATON ROUGE, LA 70814  \n",
       "1790             7375 AIRLINE HW\\nBATON ROUGE, LA 70814  \n",
       "1797             7375 AIRLINE HW\\nBATON ROUGE, LA 70814  \n",
       "1829             7375 AIRLINE HW\\nBATON ROUGE, LA 70814  \n",
       "1838             7375 AIRLINE HW\\nBATON ROUGE, LA 70814  \n",
       "1843             7375 AIRLINE HW\\nBATON ROUGE, LA 70815  \n",
       "1845             7375 AIRLINE HW\\nBATON ROUGE, LA 70814  \n",
       "1864             7375 AIRLINE HW\\nBATON ROUGE, LA 70814  "
      ]
     },
     "execution_count": 40,
     "metadata": {},
     "output_type": "execute_result"
    }
   ],
   "source": [
    "df[df.duplicated(subset=None, keep = \"first\")].head(10)"
   ]
  },
  {
   "cell_type": "code",
   "execution_count": 41,
   "metadata": {},
   "outputs": [],
   "source": [
    "df.drop_duplicates(keep = \"first\", inplace = True)"
   ]
  },
  {
   "cell_type": "code",
   "execution_count": 80,
   "metadata": {},
   "outputs": [
    {
     "data": {
      "text/plain": [
       "0"
      ]
     },
     "execution_count": 80,
     "metadata": {},
     "output_type": "execute_result"
    }
   ],
   "source": [
    "df.duplicated().sum()\n",
    "#  df.reset_index(inplace = True)\n",
    "# df.drop(axis = 1,columns= {\"level_0\", \"index\"}, inplace = True )"
   ]
  },
  {
   "cell_type": "markdown",
   "metadata": {},
   "source": [
    "## 6. EXTRACTING INFORMATION FROM A COLUMN AND CREATING NEW COLUMNS "
   ]
  },
  {
   "cell_type": "code",
   "execution_count": 38,
   "metadata": {},
   "outputs": [
    {
     "data": {
      "text/plain": [
       "'944 MONET DR\\nBATON ROUGE, LA\\n(30.458381, -91.11738)'"
      ]
     },
     "execution_count": 38,
     "metadata": {},
     "output_type": "execute_result"
    }
   ],
   "source": [
    "df[\"GEOLOCATION\"][0] "
   ]
  },
  {
   "cell_type": "code",
   "execution_count": 31,
   "metadata": {},
   "outputs": [
    {
     "data": {
      "text/html": [
       "<div>\n",
       "<style scoped>\n",
       "    .dataframe tbody tr th:only-of-type {\n",
       "        vertical-align: middle;\n",
       "    }\n",
       "\n",
       "    .dataframe tbody tr th {\n",
       "        vertical-align: top;\n",
       "    }\n",
       "\n",
       "    .dataframe thead th {\n",
       "        text-align: right;\n",
       "    }\n",
       "</style>\n",
       "<table border=\"1\" class=\"dataframe\">\n",
       "  <thead>\n",
       "    <tr style=\"text-align: right;\">\n",
       "      <th></th>\n",
       "      <th>0</th>\n",
       "      <th>1</th>\n",
       "    </tr>\n",
       "  </thead>\n",
       "  <tbody>\n",
       "    <tr>\n",
       "      <th>0</th>\n",
       "      <td>30.52347</td>\n",
       "      <td>-91.181124</td>\n",
       "    </tr>\n",
       "    <tr>\n",
       "      <th>1</th>\n",
       "      <td>30.504718</td>\n",
       "      <td>-91.151324</td>\n",
       "    </tr>\n",
       "    <tr>\n",
       "      <th>2</th>\n",
       "      <td>30.500722</td>\n",
       "      <td>-91.130123</td>\n",
       "    </tr>\n",
       "    <tr>\n",
       "      <th>3</th>\n",
       "      <td>30.45325</td>\n",
       "      <td>-91.102543</td>\n",
       "    </tr>\n",
       "    <tr>\n",
       "      <th>4</th>\n",
       "      <td>30.499248</td>\n",
       "      <td>-91.153222</td>\n",
       "    </tr>\n",
       "    <tr>\n",
       "      <th>...</th>\n",
       "      <td>...</td>\n",
       "      <td>...</td>\n",
       "    </tr>\n",
       "    <tr>\n",
       "      <th>490573</th>\n",
       "      <td>30.45469</td>\n",
       "      <td>-91.076897</td>\n",
       "    </tr>\n",
       "    <tr>\n",
       "      <th>490574</th>\n",
       "      <td>30.445782</td>\n",
       "      <td>-91.090872</td>\n",
       "    </tr>\n",
       "    <tr>\n",
       "      <th>490575</th>\n",
       "      <td>30.445782</td>\n",
       "      <td>-91.090872</td>\n",
       "    </tr>\n",
       "    <tr>\n",
       "      <th>490576</th>\n",
       "      <td>30.504255</td>\n",
       "      <td>-91.151478</td>\n",
       "    </tr>\n",
       "    <tr>\n",
       "      <th>490577</th>\n",
       "      <td>30.504255</td>\n",
       "      <td>-91.151478</td>\n",
       "    </tr>\n",
       "  </tbody>\n",
       "</table>\n",
       "<p>490578 rows × 2 columns</p>\n",
       "</div>"
      ],
      "text/plain": [
       "                0            1\n",
       "0        30.52347   -91.181124\n",
       "1       30.504718   -91.151324\n",
       "2       30.500722   -91.130123\n",
       "3        30.45325   -91.102543\n",
       "4       30.499248   -91.153222\n",
       "...           ...          ...\n",
       "490573   30.45469   -91.076897\n",
       "490574  30.445782   -91.090872\n",
       "490575  30.445782   -91.090872\n",
       "490576  30.504255   -91.151478\n",
       "490577  30.504255   -91.151478\n",
       "\n",
       "[490578 rows x 2 columns]"
      ]
     },
     "execution_count": 31,
     "metadata": {},
     "output_type": "execute_result"
    }
   ],
   "source": [
    "  df[\"GEOLOCATION\"].str.split(\"\\n\", n =2, expand = True).iloc[:,2].str.replace(r'[()]',\"\").str.split(\",\", n = 2, expand = True)\n",
    " #df[\"GEOLOCATION\"].str.split(\"\\n\", n= 3, expand = True).iloc[:, 0].str.split(\" \", n=2 , expand = True).iloc[:,0]\n",
    " #df[\"GEOLOCATION\"].str.split(\"\\n\", n= 3, expand = True).iloc[:, 0].str.split(\" \", n=2 , expand = True).iloc[:,1]\n",
    " #df[\"GEOLOCATION\"].str.split(\"\\n\", n= 3, expand = True).iloc[:, 0].str.split(\" \", n=2 , expand = True).iloc[:,2]"
   ]
  },
  {
   "cell_type": "code",
   "execution_count": 55,
   "metadata": {},
   "outputs": [],
   "source": [
    "df[\"LATITUDE\"] = df[\"GEOLOCATION\"].str.split(\"\\n\", n= 2, expand = True ).iloc[:, 2].str.replace(r'[()]',\"\").str.split(\",\", n=2, expand = True)[0]"
   ]
  },
  {
   "cell_type": "code",
   "execution_count": 56,
   "metadata": {},
   "outputs": [],
   "source": [
    "df[\"LONGITUDE\"] = df[\"GEOLOCATION\"].str.split(\"\\n\", n =2, expand = True).iloc[:,2].str.replace(r'[()]',\"\").str.split(\",\", n = 2, expand = True)[1]"
   ]
  },
  {
   "cell_type": "code",
   "execution_count": 81,
   "metadata": {},
   "outputs": [
    {
     "data": {
      "text/html": [
       "<div>\n",
       "<style scoped>\n",
       "    .dataframe tbody tr th:only-of-type {\n",
       "        vertical-align: middle;\n",
       "    }\n",
       "\n",
       "    .dataframe tbody tr th {\n",
       "        vertical-align: top;\n",
       "    }\n",
       "\n",
       "    .dataframe thead th {\n",
       "        text-align: right;\n",
       "    }\n",
       "</style>\n",
       "<table border=\"1\" class=\"dataframe\">\n",
       "  <thead>\n",
       "    <tr style=\"text-align: right;\">\n",
       "      <th></th>\n",
       "      <th>OFFENSE DATE</th>\n",
       "      <th>OFFENSE TIME</th>\n",
       "      <th>CRIME</th>\n",
       "      <th>COMMITTED</th>\n",
       "      <th>OFFENSE</th>\n",
       "      <th>OFFENSE DESCRIPTION</th>\n",
       "      <th>FULL ADDRESS</th>\n",
       "      <th>ADDRESS NUMBER</th>\n",
       "      <th>STREET NAME</th>\n",
       "      <th>STREET TYPE</th>\n",
       "      <th>...</th>\n",
       "      <th>ZIP CODE</th>\n",
       "      <th>DISTRICT</th>\n",
       "      <th>ZONE</th>\n",
       "      <th>SUBZONE</th>\n",
       "      <th>COMPLETE DISTRICT</th>\n",
       "      <th>COUNCIL DISTRICT</th>\n",
       "      <th>CRIME PREVENTION DISTRICT</th>\n",
       "      <th>GEOLOCATION</th>\n",
       "      <th>LATITUDE</th>\n",
       "      <th>LONGITUDE</th>\n",
       "    </tr>\n",
       "  </thead>\n",
       "  <tbody>\n",
       "    <tr>\n",
       "      <th>0</th>\n",
       "      <td>2011-01-01</td>\n",
       "      <td>1200.0</td>\n",
       "      <td>THEFT</td>\n",
       "      <td>COMMITTED</td>\n",
       "      <td>14:67.21</td>\n",
       "      <td>THEFT OF ASSETS FROM AGED / DISABLED PERSON</td>\n",
       "      <td>944 MONET DR</td>\n",
       "      <td>944.0</td>\n",
       "      <td>MONET</td>\n",
       "      <td>Drive</td>\n",
       "      <td>...</td>\n",
       "      <td>70806.0</td>\n",
       "      <td>1</td>\n",
       "      <td>D</td>\n",
       "      <td>1</td>\n",
       "      <td>1D1</td>\n",
       "      <td>6.0</td>\n",
       "      <td>MELROSE EAST</td>\n",
       "      <td>944 MONET DR\\nBATON ROUGE, LA\\n(30.458381, -91...</td>\n",
       "      <td>30.458381</td>\n",
       "      <td>-91.11738</td>\n",
       "    </tr>\n",
       "    <tr>\n",
       "      <th>1</th>\n",
       "      <td>2011-01-01</td>\n",
       "      <td>2309.0</td>\n",
       "      <td>NUISANCE</td>\n",
       "      <td>COMMITTED</td>\n",
       "      <td>13:1001</td>\n",
       "      <td>LITTERING (CC)</td>\n",
       "      <td>300 DELPHINE ST</td>\n",
       "      <td>300.0</td>\n",
       "      <td>DELPHINE</td>\n",
       "      <td>Street</td>\n",
       "      <td>...</td>\n",
       "      <td>70806.0</td>\n",
       "      <td>2</td>\n",
       "      <td>A</td>\n",
       "      <td>3</td>\n",
       "      <td>2A3</td>\n",
       "      <td>10.0</td>\n",
       "      <td>NONE</td>\n",
       "      <td>300 DELPHINE ST\\nBATON ROUGE, LA\\n(30.445911, ...</td>\n",
       "      <td>30.445911</td>\n",
       "      <td>-91.164083</td>\n",
       "    </tr>\n",
       "    <tr>\n",
       "      <th>2</th>\n",
       "      <td>2011-01-01</td>\n",
       "      <td>1915.0</td>\n",
       "      <td>OTHER</td>\n",
       "      <td>COMMITTED</td>\n",
       "      <td>13:1018</td>\n",
       "      <td>DRINKING IN PUBLIC/CC</td>\n",
       "      <td>1760 PLANK RD</td>\n",
       "      <td>1760.0</td>\n",
       "      <td>PLANK</td>\n",
       "      <td>Road</td>\n",
       "      <td>...</td>\n",
       "      <td>70802.0</td>\n",
       "      <td>1</td>\n",
       "      <td>B</td>\n",
       "      <td>1</td>\n",
       "      <td>1B1</td>\n",
       "      <td>7.0</td>\n",
       "      <td>NONE</td>\n",
       "      <td>1760 PLANK RD\\nBATON ROUGE, LA 70805\\n(30.4641...</td>\n",
       "      <td>30.464164</td>\n",
       "      <td>-91.165582</td>\n",
       "    </tr>\n",
       "    <tr>\n",
       "      <th>3</th>\n",
       "      <td>2011-01-01</td>\n",
       "      <td>1131.0</td>\n",
       "      <td>THEFT</td>\n",
       "      <td>COMMITTED</td>\n",
       "      <td>14:67.16</td>\n",
       "      <td>THEFT/IDENTITY</td>\n",
       "      <td>4445 PLANK RD</td>\n",
       "      <td>4445.0</td>\n",
       "      <td>PLANK</td>\n",
       "      <td>Road</td>\n",
       "      <td>...</td>\n",
       "      <td>70805.0</td>\n",
       "      <td>1</td>\n",
       "      <td>E</td>\n",
       "      <td>1</td>\n",
       "      <td>1E1</td>\n",
       "      <td>10.0</td>\n",
       "      <td>NONE</td>\n",
       "      <td>4445 PLANK RD\\nBATON ROUGE, LA 70805\\n(30.4904...</td>\n",
       "      <td>30.490433</td>\n",
       "      <td>-91.156332</td>\n",
       "    </tr>\n",
       "    <tr>\n",
       "      <th>4</th>\n",
       "      <td>2011-01-01</td>\n",
       "      <td>2345.0</td>\n",
       "      <td>NARCOTICS</td>\n",
       "      <td>COMMITTED</td>\n",
       "      <td>13:966</td>\n",
       "      <td>POSS MARIJUANA/CC</td>\n",
       "      <td>8194 PLANK RD</td>\n",
       "      <td>8194.0</td>\n",
       "      <td>PLANK</td>\n",
       "      <td>Road</td>\n",
       "      <td>...</td>\n",
       "      <td>70811.0</td>\n",
       "      <td>4</td>\n",
       "      <td>D</td>\n",
       "      <td>1</td>\n",
       "      <td>4D1</td>\n",
       "      <td>2.0</td>\n",
       "      <td>NONE</td>\n",
       "      <td>8194 PLANK RD\\nBATON ROUGE, LA 70807\\n(30.5240...</td>\n",
       "      <td>30.524001</td>\n",
       "      <td>-91.14442</td>\n",
       "    </tr>\n",
       "    <tr>\n",
       "      <th>...</th>\n",
       "      <td>...</td>\n",
       "      <td>...</td>\n",
       "      <td>...</td>\n",
       "      <td>...</td>\n",
       "      <td>...</td>\n",
       "      <td>...</td>\n",
       "      <td>...</td>\n",
       "      <td>...</td>\n",
       "      <td>...</td>\n",
       "      <td>...</td>\n",
       "      <td>...</td>\n",
       "      <td>...</td>\n",
       "      <td>...</td>\n",
       "      <td>...</td>\n",
       "      <td>...</td>\n",
       "      <td>...</td>\n",
       "      <td>...</td>\n",
       "      <td>...</td>\n",
       "      <td>...</td>\n",
       "      <td>...</td>\n",
       "      <td>...</td>\n",
       "    </tr>\n",
       "    <tr>\n",
       "      <th>488538</th>\n",
       "      <td>2021-01-02</td>\n",
       "      <td>130.0</td>\n",
       "      <td>OTHER</td>\n",
       "      <td>COMMITTED</td>\n",
       "      <td>14:62.2</td>\n",
       "      <td>BURGLARY/S INHAB DWELLING</td>\n",
       "      <td>155 MARILYN DR</td>\n",
       "      <td>155.0</td>\n",
       "      <td>MARILYN</td>\n",
       "      <td>Drive</td>\n",
       "      <td>...</td>\n",
       "      <td>70815.0</td>\n",
       "      <td>3</td>\n",
       "      <td>C</td>\n",
       "      <td>1</td>\n",
       "      <td>3C1</td>\n",
       "      <td>6.0</td>\n",
       "      <td>NONE</td>\n",
       "      <td>155 MARILYN DR\\nBATON ROUGE, LA 70815\\n(30.454...</td>\n",
       "      <td>30.45469</td>\n",
       "      <td>-91.076897</td>\n",
       "    </tr>\n",
       "    <tr>\n",
       "      <th>488539</th>\n",
       "      <td>2021-01-05</td>\n",
       "      <td>1049.0</td>\n",
       "      <td>THEFT</td>\n",
       "      <td>COMMITTED</td>\n",
       "      <td>14:67/AI</td>\n",
       "      <td>THEFT OVER $200 ALL OTHER</td>\n",
       "      <td>9000 AIRLINE HW</td>\n",
       "      <td>9000.0</td>\n",
       "      <td>AIRLINE</td>\n",
       "      <td>Highway</td>\n",
       "      <td>...</td>\n",
       "      <td>70815.0</td>\n",
       "      <td>3</td>\n",
       "      <td>A</td>\n",
       "      <td>1</td>\n",
       "      <td>3A1</td>\n",
       "      <td>11.0</td>\n",
       "      <td>NONE</td>\n",
       "      <td>9000 AIRLINE HW\\nBATON ROUGE, LA\\n(30.445782, ...</td>\n",
       "      <td>30.445782</td>\n",
       "      <td>-91.090872</td>\n",
       "    </tr>\n",
       "    <tr>\n",
       "      <th>488540</th>\n",
       "      <td>2021-01-05</td>\n",
       "      <td>1049.0</td>\n",
       "      <td>THEFT</td>\n",
       "      <td>COMMITTED</td>\n",
       "      <td>14:70.4</td>\n",
       "      <td>ACCESS DEVICE FRAUD</td>\n",
       "      <td>9000 AIRLINE HW</td>\n",
       "      <td>9000.0</td>\n",
       "      <td>AIRLINE</td>\n",
       "      <td>Highway</td>\n",
       "      <td>...</td>\n",
       "      <td>70815.0</td>\n",
       "      <td>3</td>\n",
       "      <td>A</td>\n",
       "      <td>1</td>\n",
       "      <td>3A1</td>\n",
       "      <td>11.0</td>\n",
       "      <td>NONE</td>\n",
       "      <td>9000 AIRLINE HW\\nBATON ROUGE, LA\\n(30.445782, ...</td>\n",
       "      <td>30.445782</td>\n",
       "      <td>-91.090872</td>\n",
       "    </tr>\n",
       "    <tr>\n",
       "      <th>488541</th>\n",
       "      <td>2021-01-06</td>\n",
       "      <td>716.0</td>\n",
       "      <td>THEFT</td>\n",
       "      <td>COMMITTED</td>\n",
       "      <td>14:72.2</td>\n",
       "      <td>MONETARY INSTRUMENT ABUSE</td>\n",
       "      <td>5950 PLANK RD</td>\n",
       "      <td>5950.0</td>\n",
       "      <td>PLANK</td>\n",
       "      <td>Road</td>\n",
       "      <td>...</td>\n",
       "      <td>70805.0</td>\n",
       "      <td>4</td>\n",
       "      <td>D</td>\n",
       "      <td>1</td>\n",
       "      <td>4D1</td>\n",
       "      <td>5.0</td>\n",
       "      <td>NONE</td>\n",
       "      <td>5950 PLANK RD\\nBATON ROUGE, LA\\n(30.504255, -9...</td>\n",
       "      <td>30.504255</td>\n",
       "      <td>-91.151478</td>\n",
       "    </tr>\n",
       "    <tr>\n",
       "      <th>488542</th>\n",
       "      <td>2021-01-06</td>\n",
       "      <td>716.0</td>\n",
       "      <td>THEFT</td>\n",
       "      <td>COMMITTED</td>\n",
       "      <td>14:67/AI</td>\n",
       "      <td>THEFT OVER $200 ALL OTHER</td>\n",
       "      <td>5950 PLANK RD</td>\n",
       "      <td>5950.0</td>\n",
       "      <td>PLANK</td>\n",
       "      <td>Road</td>\n",
       "      <td>...</td>\n",
       "      <td>70805.0</td>\n",
       "      <td>4</td>\n",
       "      <td>D</td>\n",
       "      <td>1</td>\n",
       "      <td>4D1</td>\n",
       "      <td>5.0</td>\n",
       "      <td>NONE</td>\n",
       "      <td>5950 PLANK RD\\nBATON ROUGE, LA 70805\\n(30.5042...</td>\n",
       "      <td>30.504255</td>\n",
       "      <td>-91.151478</td>\n",
       "    </tr>\n",
       "  </tbody>\n",
       "</table>\n",
       "<p>416979 rows × 22 columns</p>\n",
       "</div>"
      ],
      "text/plain": [
       "       OFFENSE DATE  OFFENSE TIME      CRIME  COMMITTED   OFFENSE  \\\n",
       "0        2011-01-01        1200.0      THEFT  COMMITTED  14:67.21   \n",
       "1        2011-01-01        2309.0   NUISANCE  COMMITTED   13:1001   \n",
       "2        2011-01-01        1915.0      OTHER  COMMITTED   13:1018   \n",
       "3        2011-01-01        1131.0      THEFT  COMMITTED  14:67.16   \n",
       "4        2011-01-01        2345.0  NARCOTICS  COMMITTED    13:966   \n",
       "...             ...           ...        ...        ...       ...   \n",
       "488538   2021-01-02         130.0      OTHER  COMMITTED   14:62.2   \n",
       "488539   2021-01-05        1049.0      THEFT  COMMITTED  14:67/AI   \n",
       "488540   2021-01-05        1049.0      THEFT  COMMITTED   14:70.4   \n",
       "488541   2021-01-06         716.0      THEFT  COMMITTED   14:72.2   \n",
       "488542   2021-01-06         716.0      THEFT  COMMITTED  14:67/AI   \n",
       "\n",
       "                                OFFENSE DESCRIPTION     FULL ADDRESS  \\\n",
       "0       THEFT OF ASSETS FROM AGED / DISABLED PERSON     944 MONET DR   \n",
       "1                                    LITTERING (CC)  300 DELPHINE ST   \n",
       "2                             DRINKING IN PUBLIC/CC    1760 PLANK RD   \n",
       "3                                    THEFT/IDENTITY    4445 PLANK RD   \n",
       "4                                 POSS MARIJUANA/CC    8194 PLANK RD   \n",
       "...                                             ...              ...   \n",
       "488538                    BURGLARY/S INHAB DWELLING   155 MARILYN DR   \n",
       "488539                    THEFT OVER $200 ALL OTHER  9000 AIRLINE HW   \n",
       "488540                          ACCESS DEVICE FRAUD  9000 AIRLINE HW   \n",
       "488541                    MONETARY INSTRUMENT ABUSE    5950 PLANK RD   \n",
       "488542                    THEFT OVER $200 ALL OTHER    5950 PLANK RD   \n",
       "\n",
       "        ADDRESS NUMBER STREET NAME STREET TYPE  ... ZIP CODE DISTRICT  ZONE  \\\n",
       "0                944.0       MONET       Drive  ...  70806.0        1     D   \n",
       "1                300.0    DELPHINE      Street  ...  70806.0        2     A   \n",
       "2               1760.0       PLANK        Road  ...  70802.0        1     B   \n",
       "3               4445.0       PLANK        Road  ...  70805.0        1     E   \n",
       "4               8194.0       PLANK        Road  ...  70811.0        4     D   \n",
       "...                ...         ...         ...  ...      ...      ...   ...   \n",
       "488538           155.0     MARILYN       Drive  ...  70815.0        3     C   \n",
       "488539          9000.0     AIRLINE     Highway  ...  70815.0        3     A   \n",
       "488540          9000.0     AIRLINE     Highway  ...  70815.0        3     A   \n",
       "488541          5950.0       PLANK        Road  ...  70805.0        4     D   \n",
       "488542          5950.0       PLANK        Road  ...  70805.0        4     D   \n",
       "\n",
       "       SUBZONE COMPLETE DISTRICT COUNCIL DISTRICT CRIME PREVENTION DISTRICT  \\\n",
       "0            1               1D1              6.0              MELROSE EAST   \n",
       "1            3               2A3             10.0                      NONE   \n",
       "2            1               1B1              7.0                      NONE   \n",
       "3            1               1E1             10.0                      NONE   \n",
       "4            1               4D1              2.0                      NONE   \n",
       "...        ...               ...              ...                       ...   \n",
       "488538       1               3C1              6.0                      NONE   \n",
       "488539       1               3A1             11.0                      NONE   \n",
       "488540       1               3A1             11.0                      NONE   \n",
       "488541       1               4D1              5.0                      NONE   \n",
       "488542       1               4D1              5.0                      NONE   \n",
       "\n",
       "                                              GEOLOCATION   LATITUDE  \\\n",
       "0       944 MONET DR\\nBATON ROUGE, LA\\n(30.458381, -91...  30.458381   \n",
       "1       300 DELPHINE ST\\nBATON ROUGE, LA\\n(30.445911, ...  30.445911   \n",
       "2       1760 PLANK RD\\nBATON ROUGE, LA 70805\\n(30.4641...  30.464164   \n",
       "3       4445 PLANK RD\\nBATON ROUGE, LA 70805\\n(30.4904...  30.490433   \n",
       "4       8194 PLANK RD\\nBATON ROUGE, LA 70807\\n(30.5240...  30.524001   \n",
       "...                                                   ...        ...   \n",
       "488538  155 MARILYN DR\\nBATON ROUGE, LA 70815\\n(30.454...   30.45469   \n",
       "488539  9000 AIRLINE HW\\nBATON ROUGE, LA\\n(30.445782, ...  30.445782   \n",
       "488540  9000 AIRLINE HW\\nBATON ROUGE, LA\\n(30.445782, ...  30.445782   \n",
       "488541  5950 PLANK RD\\nBATON ROUGE, LA\\n(30.504255, -9...  30.504255   \n",
       "488542  5950 PLANK RD\\nBATON ROUGE, LA 70805\\n(30.5042...  30.504255   \n",
       "\n",
       "          LONGITUDE  \n",
       "0         -91.11738  \n",
       "1        -91.164083  \n",
       "2        -91.165582  \n",
       "3        -91.156332  \n",
       "4         -91.14442  \n",
       "...             ...  \n",
       "488538   -91.076897  \n",
       "488539   -91.090872  \n",
       "488540   -91.090872  \n",
       "488541   -91.151478  \n",
       "488542   -91.151478  \n",
       "\n",
       "[416979 rows x 22 columns]"
      ]
     },
     "execution_count": 81,
     "metadata": {},
     "output_type": "execute_result"
    }
   ],
   "source": [
    "df"
   ]
  },
  {
   "cell_type": "markdown",
   "metadata": {},
   "source": [
    "## 7. REPLACING VALUES IN A COLUMN"
   ]
  },
  {
   "cell_type": "code",
   "execution_count": 69,
   "metadata": {},
   "outputs": [
    {
     "data": {
      "text/plain": [
       "208820    ST\n",
       "14873     ST\n",
       "61588     RD\n",
       "46515     RD\n",
       "212756    PL\n",
       "417462    DR\n",
       "64748     ST\n",
       "270602    ST\n",
       "177293    ST\n",
       "373463    DR\n",
       "Name: STREET TYPE, dtype: object"
      ]
     },
     "execution_count": 69,
     "metadata": {},
     "output_type": "execute_result"
    }
   ],
   "source": [
    "df[\"STREET TYPE\"].sample(10)"
   ]
  },
  {
   "cell_type": "code",
   "execution_count": 70,
   "metadata": {},
   "outputs": [],
   "source": [
    "import numpy as np"
   ]
  },
  {
   "cell_type": "code",
   "execution_count": 71,
   "metadata": {},
   "outputs": [],
   "source": [
    "# Street type found on internet, using it to replace values.\n",
    "Replacing_values = {'DR': \"Drive\" , 'ST' : \"Street\", 'RD' : \"Road\", 'BL' : \"Boulevard\", 'AV' : \"Avenue\", 'PL' : \"Place\", 'TH' : \"Throughway\", np.nan : None , 'HW': \"Highway\" , 'LN' : \"Lane\", 'CT' : \"Centre\",\n",
    "       'PK' : \"Park\", 'CR' : \"Circle\" , 'OT' : \"Orchard \", 'BT' : \"Bottom\", 'WY' : \"Way\"}"
   ]
  },
  {
   "cell_type": "code",
   "execution_count": 72,
   "metadata": {},
   "outputs": [
    {
     "data": {
      "text/plain": [
       "nan"
      ]
     },
     "execution_count": 72,
     "metadata": {},
     "output_type": "execute_result"
    }
   ],
   "source": [
    "np.nan"
   ]
  },
  {
   "cell_type": "code",
   "execution_count": 73,
   "metadata": {},
   "outputs": [],
   "source": [
    "df[\"STREET TYPE\"] = df[\"STREET TYPE\"].map(Replacing_values)"
   ]
  },
  {
   "cell_type": "code",
   "execution_count": 74,
   "metadata": {},
   "outputs": [
    {
     "data": {
      "text/plain": [
       "62976        Street\n",
       "376152        Drive\n",
       "400467       Street\n",
       "450449      Highway\n",
       "307645    Boulevard\n",
       "103154       Street\n",
       "288291        Drive\n",
       "223556      Highway\n",
       "57662        Avenue\n",
       "33311        Street\n",
       "Name: STREET TYPE, dtype: object"
      ]
     },
     "execution_count": 74,
     "metadata": {},
     "output_type": "execute_result"
    }
   ],
   "source": [
    "df[\"STREET TYPE\"].sample(10)"
   ]
  },
  {
   "cell_type": "code",
   "execution_count": 9,
   "metadata": {},
   "outputs": [
    {
     "name": "stdout",
     "output_type": "stream",
     "text": [
      "15.19 % of unwanted data removed from the dataset.\n"
     ]
    }
   ],
   "source": [
    "print(round((490578-416079)*100/490578,2), \"% of unwanted data removed from the dataset.\")"
   ]
  }
 ],
 "metadata": {
  "kernelspec": {
   "display_name": "Python 3",
   "language": "python",
   "name": "python3"
  },
  "language_info": {
   "codemirror_mode": {
    "name": "ipython",
    "version": 3
   },
   "file_extension": ".py",
   "mimetype": "text/x-python",
   "name": "python",
   "nbconvert_exporter": "python",
   "pygments_lexer": "ipython3",
   "version": "3.6.8"
  }
 },
 "nbformat": 4,
 "nbformat_minor": 2
}
